{
 "cells": [
  {
   "cell_type": "markdown",
   "metadata": {},
   "source": [
    "# Assignment 2\n",
    "Let's test your knowledge!"
   ]
  },
  {
   "cell_type": "markdown",
   "metadata": {},
   "source": [
    "_____\n",
    "**Use <code>for</code>, .split(), and <code>if</code> to create a Statement that will print out words that start with 's':**"
   ]
  },
  {
   "cell_type": "code",
   "execution_count": 21,
   "metadata": {},
   "outputs": [],
   "source": [
    "st = 'Print only the words that start with s in this sentence'"
   ]
  },
  {
   "cell_type": "code",
   "execution_count": 22,
   "metadata": {},
   "outputs": [
    {
     "name": "stdout",
     "output_type": "stream",
     "text": [
      "start\n",
      "s\n",
      "sentence\n"
     ]
    }
   ],
   "source": [
    "# Make List by split by space .split() to make any 'sequencly letters without space as word' to make indexing on this list\n",
    "split_list = list(st.split())\n",
    "\n",
    "# for loop to indexing all words and compare first index in the word with letter 's' if it true print this word\n",
    "for i in split_list:\n",
    "    if i[0] == 's':\n",
    "        print(i)"
   ]
  },
  {
   "cell_type": "markdown",
   "metadata": {},
   "source": [
    "___\n",
    "**Use a List Comprehension to create a list of all numbers between 1 and 50 that are divisible by 3.**"
   ]
  },
  {
   "cell_type": "code",
   "execution_count": 23,
   "metadata": {},
   "outputs": [
    {
     "name": "stdout",
     "output_type": "stream",
     "text": [
      "3\n",
      "6\n",
      "9\n",
      "12\n",
      "15\n",
      "18\n",
      "21\n",
      "24\n",
      "27\n",
      "30\n",
      "33\n",
      "36\n",
      "39\n",
      "42\n",
      "45\n",
      "48\n"
     ]
    }
   ],
   "source": [
    "# Make List by range built in function range(x,y+1)\n",
    "mylist = list(range(1,51))\n",
    "\n",
    "# Comprehension List to get odd numbers from 1 to 50\n",
    "Comprehension_oddnumbers = [print(i) for i in mylist if i%3==0]"
   ]
  },
  {
   "cell_type": "markdown",
   "metadata": {},
   "source": [
    "_____\n",
    "**Go through the string below and if the length of a word is even print \"even!\"**"
   ]
  },
  {
   "cell_type": "code",
   "execution_count": 24,
   "metadata": {},
   "outputs": [],
   "source": [
    "st = 'Print every word in this sentence that has an even number of letters'\n"
   ]
  },
  {
   "cell_type": "code",
   "execution_count": 25,
   "metadata": {},
   "outputs": [
    {
     "name": "stdout",
     "output_type": "stream",
     "text": [
      "The length of this word is even :  word\n",
      "The length of this word is even :  in\n",
      "The length of this word is even :  this\n",
      "The length of this word is even :  sentence\n",
      "The length of this word is even :  that\n",
      "The length of this word is even :  an\n",
      "The length of this word is even :  even\n",
      "The length of this word is even :  number\n",
      "The length of this word is even :  of\n"
     ]
    }
   ],
   "source": [
    "# 1st Method\n",
    "\n",
    "# Make list by split the sentence by spaceing between words\n",
    "length_list = list(st.split())\n",
    "\n",
    "# for loop to check length of any word in sentence if it even or not and if it even print this word and even\n",
    "for i in length_list:\n",
    "    if len(i)%2 == 0:\n",
    "        print('The length of this word is even : ',i)\n",
    "        \n",
    "\n",
    "        \n",
    "# 2nd Method\n",
    "\n",
    "\n",
    "# for loop to make indexing on all numbers in list and if cond to check this number even or odd with using range function\n",
    "\n",
    "# for i in range(1,11,1):\n",
    "#     if i % 2 == 0:\n",
    "#         print('This number is even = ',i)\n",
    "\n",
    "#     else:\n",
    "#         print('This number is odd = ',i)"
   ]
  },
  {
   "cell_type": "markdown",
   "metadata": {},
   "source": [
    "____\n",
    "**Write a program that prints the integers from 1 to 100. But for multiples of three print \"Fizz\" instead of the number, and for the multiples of five print \"Buzz\". For numbers which are multiples of both three and five print \"FizzBuzz\".**"
   ]
  },
  {
   "cell_type": "code",
   "execution_count": 26,
   "metadata": {},
   "outputs": [
    {
     "name": "stdout",
     "output_type": "stream",
     "text": [
      "1\n",
      "2\n",
      "Fizz =  3\n",
      "4\n",
      "Buzz =  5\n",
      "Fizz =  6\n",
      "7\n",
      "8\n",
      "Fizz =  9\n",
      "Buzz =  10\n",
      "11\n",
      "Fizz =  12\n",
      "13\n",
      "14\n",
      "FizzBuzz =  15\n",
      "16\n",
      "17\n",
      "Fizz =  18\n",
      "19\n",
      "Buzz =  20\n",
      "Fizz =  21\n",
      "22\n",
      "23\n",
      "Fizz =  24\n",
      "Buzz =  25\n",
      "26\n",
      "Fizz =  27\n",
      "28\n",
      "29\n",
      "FizzBuzz =  30\n",
      "31\n",
      "32\n",
      "Fizz =  33\n",
      "34\n",
      "Buzz =  35\n",
      "Fizz =  36\n",
      "37\n",
      "38\n",
      "Fizz =  39\n",
      "Buzz =  40\n",
      "41\n",
      "Fizz =  42\n",
      "43\n",
      "44\n",
      "FizzBuzz =  45\n",
      "46\n",
      "47\n",
      "Fizz =  48\n",
      "49\n",
      "Buzz =  50\n",
      "Fizz =  51\n",
      "52\n",
      "53\n",
      "Fizz =  54\n",
      "Buzz =  55\n",
      "56\n",
      "Fizz =  57\n",
      "58\n",
      "59\n",
      "FizzBuzz =  60\n",
      "61\n",
      "62\n",
      "Fizz =  63\n",
      "64\n",
      "Buzz =  65\n",
      "Fizz =  66\n",
      "67\n",
      "68\n",
      "Fizz =  69\n",
      "Buzz =  70\n",
      "71\n",
      "Fizz =  72\n",
      "73\n",
      "74\n",
      "FizzBuzz =  75\n",
      "76\n",
      "77\n",
      "Fizz =  78\n",
      "79\n",
      "Buzz =  80\n",
      "Fizz =  81\n",
      "82\n",
      "83\n",
      "Fizz =  84\n",
      "Buzz =  85\n",
      "86\n",
      "Fizz =  87\n",
      "88\n",
      "89\n",
      "FizzBuzz =  90\n",
      "91\n",
      "92\n",
      "Fizz =  93\n",
      "94\n",
      "Buzz =  95\n",
      "Fizz =  96\n",
      "97\n",
      "98\n",
      "Fizz =  99\n",
      "Buzz =  100\n"
     ]
    }
   ],
   "source": [
    "# Print Fizz if it able to (division on 3), print Buzz if it able to (division on 5), & print FizzBuzz if it able to (division on 3 and also 5)\n",
    "\n",
    "# mylist1 = [*range(1,101)]\n",
    "mylist1 = list(range(1,101))\n",
    "\n",
    "\n",
    "for i in mylist1:\n",
    "    \n",
    "    if i % 3 == 0 and i % 5 ==0:\n",
    "        print('FizzBuzz = ',i)\n",
    "    \n",
    "    elif i % 3 == 0:\n",
    "        print('Fizz = ',i)\n",
    "        \n",
    "    elif i % 5 == 0:\n",
    "        print('Buzz = ',i)\n",
    "        \n",
    "    else:\n",
    "        print(i)"
   ]
  },
  {
   "cell_type": "markdown",
   "metadata": {},
   "source": [
    "____\n",
    "**Use List Comprehension to create a list of the first letters of every word in the string below:**"
   ]
  },
  {
   "cell_type": "code",
   "execution_count": 27,
   "metadata": {},
   "outputs": [],
   "source": [
    "st = 'Create a list of the first letters of every word in this string'"
   ]
  },
  {
   "cell_type": "code",
   "execution_count": 28,
   "metadata": {},
   "outputs": [
    {
     "name": "stdout",
     "output_type": "stream",
     "text": [
      "['C', 'a', 'l', 'o', 't', 'f', 'l', 'o', 'e', 'w', 'i', 't', 's']\n"
     ]
    }
   ],
   "source": [
    "#make empty list to insert in it the 1st letter of the sentence\n",
    "\n",
    "mylist2 = []\n",
    "\n",
    "#1st Method using List Comprehension\n",
    "\n",
    "first_letter = [mylist2.append(i[0]) for i in st.split()]\n",
    "\n",
    "print(mylist2)\n",
    "\n",
    "\n",
    "# 2nd Method using for loop with append function .append()\n",
    "\n",
    "# for i in st.split():\n",
    "#     mylist1.append(i[0])\n",
    "    \n",
    "# print(mylist2)"
   ]
  },
  {
   "cell_type": "markdown",
   "metadata": {},
   "source": [
    "### Great Job!"
   ]
  }
 ],
 "metadata": {
  "kernelspec": {
   "display_name": "Python 3 (ipykernel)",
   "language": "python",
   "name": "python3"
  },
  "language_info": {
   "codemirror_mode": {
    "name": "ipython",
    "version": 3
   },
   "file_extension": ".py",
   "mimetype": "text/x-python",
   "name": "python",
   "nbconvert_exporter": "python",
   "pygments_lexer": "ipython3",
   "version": "3.9.12"
  }
 },
 "nbformat": 4,
 "nbformat_minor": 4
}
